{
 "cells": [
  {
   "cell_type": "markdown",
   "metadata": {},
   "source": [
    "# openAI embeddings"
   ]
  },
  {
   "cell_type": "markdown",
   "metadata": {},
   "source": [
    "### load data"
   ]
  },
  {
   "cell_type": "code",
   "execution_count": 13,
   "metadata": {},
   "outputs": [],
   "source": [
    "# read data from bio_sample_problems.json and create text\n",
    "\n",
    "import json\n",
    "\n",
    "def read_json(file_path):\n",
    "    with open(file_path, 'r') as f:\n",
    "        data = json.load(f)\n",
    "    return data\n",
    "\n",
    "file_path = 'bio_sample_problems.json'\n",
    "data = read_json(file_path)\n",
    "\n",
    "def convert_sections_to_text(sections):\n",
    "    text = \"\"\n",
    "    for section in sections:\n",
    "        text += f\"Section: {section['section']}, Title: {section['title']}\\n\"\n",
    "    return text\n",
    "\n",
    "texts = [convert_sections_to_text(i['sections'])+\"\"+i['text'] for i in data['chapters']['133']['text']]\n",
    "\n",
    "from problems import *\n",
    "problems = Problems.read_json_file()\n",
    "problem_texts = [p.to_text() for p in problems.filter()]\n",
    "problem_texts = [t.replace(\"\\n\", \" \") for t in problem_texts]"
   ]
  },
  {
   "cell_type": "code",
   "execution_count": 14,
   "metadata": {},
   "outputs": [
    {
     "data": {
      "text/plain": [
       "['Section: 4.1, Title: Basis of classification\\nSection: 4.1.1, Title: Levels of Organisation\\nThough all members of Animalia are multicellular, all of them do not exhibit the same pattern of organisation of cells',\n",
       " 'For example, in sponges, the cells are arranged as loose cell aggregates, i.e., they exhibit cellular level of organisation',\n",
       " 'Some division of labour (activities) occur among the cells',\n",
       " 'In coelenterates, the arrangement of cells is more complex',\n",
       " 'Here the cells performing the same function are arranged into tissues, hence is called tissue level of organisation',\n",
       " 'A still higher level of organisation, i.e., organ level is exhibited by members of Platyhelminthes and other higher phyla where tissues are grouped together to form organs, each specialised for a particular function',\n",
       " 'In animals like Annelids, Arthropods, Molluscs, Echinoderms and Chordates, organs have associated to form functional systems, each system concerned with a specific physiological function',\n",
       " 'This pattern is called organ system level of organisation',\n",
       " 'Organ systems in different groups of animals exhibit various patterns of complexities',\n",
       " 'For example, the digestive system in Platyhelminthes has only a single opening to the outside of the body that serves as both mouth and anus, and is hence called incomplete',\n",
       " 'A complete digestive system has two openings, mouth and anus',\n",
       " 'Similarly, the circulatory system may be of two types:']"
      ]
     },
     "execution_count": 14,
     "metadata": {},
     "output_type": "execute_result"
    }
   ],
   "source": [
    "#Example section\n",
    "texts[2].split(\". \")"
   ]
  },
  {
   "cell_type": "markdown",
   "metadata": {},
   "source": [
    "### CREATE EMBEDDING OF SECTIONS"
   ]
  },
  {
   "cell_type": "code",
   "execution_count": 8,
   "metadata": {},
   "outputs": [
    {
     "name": "stderr",
     "output_type": "stream",
     "text": [
      "100%|██████████| 36/36 [00:15<00:00,  2.25it/s]\n"
     ]
    }
   ],
   "source": [
    "\n",
    "\n",
    "from openai import OpenAI\n",
    "from tqdm import tqdm\n",
    "import numpy as np\n",
    "import os\n",
    "\n",
    "client = OpenAI(api_key=os.environ.get(\"OPENAI_API_KEY\"))\n",
    "\n",
    "#create embeddings for the text\n",
    "embeddings = []\n",
    "for text in tqdm(texts):\n",
    "    text = text.replace(\"\\n\", \" \")\n",
    "    embedding = client.embeddings.create(input=[text], model='text-embedding-3-small').data[0].embedding\n",
    "    embeddings.append(embedding)\n",
    "\n",
    "embeddings = np.array(embeddings)\n"
   ]
  },
  {
   "cell_type": "markdown",
   "metadata": {},
   "source": [
    "### Create embeddings of query"
   ]
  },
  {
   "cell_type": "code",
   "execution_count": 15,
   "metadata": {},
   "outputs": [
    {
     "name": "stdout",
     "output_type": "stream",
     "text": [
      "QUESTION: The most distinctive feature of echinoderms is the  CHOICES: A. Presence of endoskeleton of calcareous ossicles B. Absence of excretory system C. Presence of water vascular system D. All of the above \n"
     ]
    }
   ],
   "source": [
    "idx = 1\n",
    "pembedding = client.embeddings.create(input=[problem_texts[idx]], model='text-embedding-3-small').data[0].embedding\n",
    "pembedding = np.array([pembedding])\n",
    "print(problem_texts[idx])"
   ]
  },
  {
   "cell_type": "markdown",
   "metadata": {},
   "source": [
    "### calculate similarity between query and sections"
   ]
  },
  {
   "cell_type": "code",
   "execution_count": 16,
   "metadata": {},
   "outputs": [
    {
     "name": "stdout",
     "output_type": "stream",
     "text": [
      "Section: 4.2, Title: Classification of animals\n",
      "Section: 4.2.9, Title: Phylum – Echinodermata\n",
      "These animals have an endoskeleton of calcareous ossicles and, hence, the name Echinodermata (Spiny bodied, Figure 4.14). All are marine with organ-system level of organisation. The adult echinoderms are radially symmetrical but larvae are bilaterally symmetrical. They are triploblastic and coelomate animals. Digestive system is complete with mouth on the lower (ventral) side and anus on the upper (dorsal) side. The most distinctive feature of echinoderms is the presence of water vascular system which helps in locomotion, capture and transport of food and respiration. An excretory system is absent. Sexes are separate. Reproduction is sexual. Fertilisation is usually external. Development is indirect with free-swimming larva. Examples: Asterias (Star fish), Echinus (Sea urchin), Antedon (Sea lily), Cucumaria (Sea cucumber) and Ophiura (Brittle star).\n",
      "0.6323302612780192\n",
      "\n",
      "\n",
      "Section: 4.3, Title: Summary\n",
      "Annelids are metamerically segmented animals with a true coelom. The arthropods are the most abundant group of animals characterised by the presence of jointed appendages. The molluscs have a soft body surrounded by an external calcareous shell. The body is covered with external skeleton made of chitin. The echinoderms possess a spiny skin. Their most distinctive feature is the presence of water vascular system. The hemichordates are a small group of worm-like marine animals. They have a cylindrical body with proboscis, collar and trunk.\n",
      "0.4786982734888644\n",
      "\n",
      "\n",
      "Section: 4.1, Title: Basis of classification\n",
      "Section: 4.1.4, Title: Coelom\n",
      "Presence or absence of a cavity between the body wall and the gut wall is very important in classification. The body cavity, which is lined by mesoderm is called coelom. Animals possessing coelom are called coelomates, e.g., annelids, molluscs, arthropods, echinoderms, hemichordates and chordates (Figure 4.3a). In some animals, the body cavity is not lined by mesoderm, instead, the mesoderm is present as scattered pouches in between the ectoderm and endoderm. Such a body cavity is called pseudocoelom and the animals possessing them are called pseudocoelomates, e.g., aschelminthes (Figure 4.3b). The animals in which the body cavity is absent are called acoelomates, e.g., platyhelminthes (Figure 4.3c).\n",
      "0.4597772119163551\n",
      "\n",
      "\n",
      "QUESTION: The most distinctive feature of echinoderms is the  CHOICES: A. Presence of endoskeleton of calcareous ossicles B. Absence of excretory system C. Presence of water vascular system D. All of the above \n"
     ]
    }
   ],
   "source": [
    "\n",
    "\n",
    "def cosine_similarity(a, b):\n",
    "    return np.dot(a, b) / (np.linalg.norm(a) * np.linalg.norm(b))\n",
    "\n",
    "\n",
    "# get cosine similarity between the embeddings\n",
    "similarities = []\n",
    "for embedding in embeddings:\n",
    "    similarity = cosine_similarity(embedding, pembedding[0])\n",
    "    similarities.append(similarity)\n",
    "\n",
    "similarities = np.array(similarities)\n",
    "\n",
    "#get the top similar text\n",
    "top_indices = np.argsort(similarities)[::-1]\n",
    "top_indices = top_indices[:3]\n",
    "\n",
    "context = \"\"\n",
    "for i in top_indices:\n",
    "    print(texts[i])\n",
    "    context += texts[i] + \"\\n\\n\"\n",
    "    print(similarities[i])\n",
    "    print(\"\\n\")\n",
    "\n",
    "\n",
    "print(problem_texts[idx])\n",
    "\n",
    "context_plus_problem = context + problem_texts[idx]\n",
    "\n",
    "#top sections and similarity score"
   ]
  },
  {
   "cell_type": "markdown",
   "metadata": {},
   "source": [
    "### call LLM with above sections and query"
   ]
  },
  {
   "cell_type": "code",
   "execution_count": 17,
   "metadata": {},
   "outputs": [],
   "source": [
    "prompt = \"\"\"\n",
    "INSTRUCTIONS:\n",
    "\n",
    "You are a biology teacher. Give the answer to the multiple choice question.\n",
    "\n",
    "Now give citation of the exact sentences from the given information, used to support this answer.\n",
    "\n",
    "Now explain the answer in detail.\n",
    "\n",
    "\"\"\""
   ]
  },
  {
   "cell_type": "code",
   "execution_count": 20,
   "metadata": {},
   "outputs": [
    {
     "data": {
      "text/plain": [
       "'Section: 4.2, Title: Classification of animals\\nSection: 4.2.9, Title: Phylum – Echinodermata\\nThese animals have an endoskeleton of calcareous ossicles and, hence, the name Echinodermata (Spiny bodied, Figure 4.14). All are marine with organ-system level of organisation. The adult echinoderms are radially symmetrical but larvae are bilaterally symmetrical. They are triploblastic and coelomate animals. Digestive system is complete with mouth on the lower (ventral) side and anus on the upper (dorsal) side. The most distinctive feature of echinoderms is the presence of water vascular system which helps in locomotion, capture and transport of food and respiration. An excretory system is absent. Sexes are separate. Reproduction is sexual. Fertilisation is usually external. Development is indirect with free-swimming larva. Examples: Asterias (Star fish), Echinus (Sea urchin), Antedon (Sea lily), Cucumaria (Sea cucumber) and Ophiura (Brittle star).\\n\\nSection: 4.3, Title: Summary\\nAnnelids are metamerically segmented animals with a true coelom. The arthropods are the most abundant group of animals characterised by the presence of jointed appendages. The molluscs have a soft body surrounded by an external calcareous shell. The body is covered with external skeleton made of chitin. The echinoderms possess a spiny skin. Their most distinctive feature is the presence of water vascular system. The hemichordates are a small group of worm-like marine animals. They have a cylindrical body with proboscis, collar and trunk.\\n\\nSection: 4.1, Title: Basis of classification\\nSection: 4.1.4, Title: Coelom\\nPresence or absence of a cavity between the body wall and the gut wall is very important in classification. The body cavity, which is lined by mesoderm is called coelom. Animals possessing coelom are called coelomates, e.g., annelids, molluscs, arthropods, echinoderms, hemichordates and chordates (Figure 4.3a). In some animals, the body cavity is not lined by mesoderm, instead, the mesoderm is present as scattered pouches in between the ectoderm and endoderm. Such a body cavity is called pseudocoelom and the animals possessing them are called pseudocoelomates, e.g., aschelminthes (Figure 4.3b). The animals in which the body cavity is absent are called acoelomates, e.g., platyhelminthes (Figure 4.3c).\\n\\nQUESTION: The most distinctive feature of echinoderms is the  CHOICES: A. Presence of endoskeleton of calcareous ossicles B. Absence of excretory system C. Presence of water vascular system D. All of the above \\nINSTRUCTIONS:\\n\\nYou are a biology teacher. Give the answer to the multiple choice question.\\n\\nNow give citation of the exact sentences from the given information, used to support this answer.\\n\\nNow explain the answer in detail.\\n\\n'"
      ]
     },
     "execution_count": 20,
     "metadata": {},
     "output_type": "execute_result"
    }
   ],
   "source": [
    "context_plus_problem + prompt"
   ]
  },
  {
   "cell_type": "code",
   "execution_count": 21,
   "metadata": {},
   "outputs": [],
   "source": [
    "\n",
    "def call_data(prompt, QA):\n",
    "    assert os.getenv(\"OPENAI_API_KEY\") is not None\n",
    "    client = OpenAI(api_key=os.getenv(\"OPENAI_API_KEY\"))\n",
    "    response = client.chat.completions.create(\n",
    "      #model=\"gpt-3.5-turbo\",\n",
    "      model=\"gpt-4-turbo-preview\",\n",
    "      messages=[\n",
    "        {\"role\": \"system\", \"content\": prompt},\n",
    "        {\"role\": \"user\", \"content\": QA}\n",
    "      ]\n",
    "    )\n",
    "    return response.choices[0].message.content\n",
    "    "
   ]
  },
  {
   "cell_type": "code",
   "execution_count": 22,
   "metadata": {},
   "outputs": [],
   "source": [
    "answer = call_data(\"\", context_plus_problem + prompt)"
   ]
  },
  {
   "cell_type": "code",
   "execution_count": 27,
   "metadata": {},
   "outputs": [
    {
     "name": "stdout",
     "output_type": "stream",
     "text": [
      "**Answer: C\n",
      "Presence of water vascular system**\n",
      "\n",
      "**Citation:** \"The most distinctive feature of echinoderms is the presence of water vascular system which helps in locomotion, capture and transport of food and respiration.\"\n",
      "\n",
      "**Explanation:** The presence of a water vascular system in echinoderms indeed sets them apart from other phyla in a significant way\n",
      "Although echinoderms also have endoskeletons made of calcareous ossicles (choice A) and an absence of an excretory system (choice B), these traits are not as uniquely distinctive to echinoderms as the presence of the water vascular system\n",
      "The water vascular system is a network of fluid-filled canals and tube feet (podia) that is not found in any other animal group\n",
      "This system is critical for various physiological functions in echinoderms, including locomotion, feeding, and gas exchange\n",
      "It is the primary means by which these marine animals interact with their environment, allowing them to move, capture food, and respire underwater\n",
      "While an endoskeleton of calcareous ossicles and the absence of an excretory system are notable features of echinoderms, they do not define the phylum as distinctively as the water vascular system does\n",
      "Hence, the presence of a water vascular system (choice C) is the correct and most distinctive feature that characterizes echinoderms among the given options.\n"
     ]
    }
   ],
   "source": [
    "for i in answer.split(\"\\n\"):\n",
    "    for j in (i.split(\". \")):\n",
    "        print(j)"
   ]
  },
  {
   "cell_type": "code",
   "execution_count": null,
   "metadata": {},
   "outputs": [],
   "source": []
  },
  {
   "cell_type": "code",
   "execution_count": null,
   "metadata": {},
   "outputs": [],
   "source": []
  },
  {
   "cell_type": "code",
   "execution_count": null,
   "metadata": {},
   "outputs": [],
   "source": []
  }
 ],
 "metadata": {
  "kernelspec": {
   "display_name": "cuda",
   "language": "python",
   "name": "python3"
  },
  "language_info": {
   "codemirror_mode": {
    "name": "ipython",
    "version": 3
   },
   "file_extension": ".py",
   "mimetype": "text/x-python",
   "name": "python",
   "nbconvert_exporter": "python",
   "pygments_lexer": "ipython3",
   "version": "3.11.5"
  }
 },
 "nbformat": 4,
 "nbformat_minor": 2
}
